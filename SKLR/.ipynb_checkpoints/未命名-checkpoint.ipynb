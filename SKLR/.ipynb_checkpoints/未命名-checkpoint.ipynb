{
 "cells": [
  {
   "cell_type": "code",
   "execution_count": 1,
   "id": "4ced2228",
   "metadata": {},
   "outputs": [],
   "source": [
    "from Sketches import CountSketch, SubsamplingSketch, GaussianSketch,SRHT\n",
    "import numpy as np\n",
    "from time import time\n",
    "\n",
    "from IPython.core.interactiveshell import InteractiveShell\n",
    "InteractiveShell.ast_node_interactivity = \"all\"\n"
   ]
  },
  {
   "cell_type": "code",
   "execution_count": 2,
   "id": "667fe573",
   "metadata": {},
   "outputs": [],
   "source": [
    "n=10000\n",
    "A=np.random.rand(n*n).reshape(-1,n)"
   ]
  },
  {
   "cell_type": "code",
   "execution_count": null,
   "id": "bfc3bb24",
   "metadata": {},
   "outputs": [],
   "source": []
  },
  {
   "cell_type": "code",
   "execution_count": 3,
   "id": "a11ad2f8",
   "metadata": {},
   "outputs": [
    {
     "name": "stderr",
     "output_type": "stream",
     "text": [
      "/Users/mayuheng/Documents/GitHub/SketchLR/SKLR/Sketches.py:71: NumbaPerformanceWarning: '@' is faster on contiguous arrays, called on (array(float64, 2d, A), array(float64, 2d, C))\n",
      "  matrix = hadamard_matrix @ matrix\n",
      "/Users/mayuheng/Documents/GitHub/SketchLR/SKLR/Sketches.py:77: NumbaPerformanceWarning: '@' is faster on contiguous arrays, called on (array(float64, 2d, C), array(float64, 2d, A))\n",
      "  matrix =  matrix @ hadamard_matrix.T\n",
      "/Users/mayuheng/opt/anaconda3/lib/python3.8/site-packages/numba/core/typing/npydecl.py:965: NumbaPerformanceWarning: '@' is faster on contiguous arrays, called on (array(float64, 2d, A), array(float64, 2d, C))\n",
      "  warnings.warn(NumbaPerformanceWarning(msg))\n",
      "/Users/mayuheng/opt/anaconda3/lib/python3.8/site-packages/numba/core/typing/npydecl.py:965: NumbaPerformanceWarning: '@' is faster on contiguous arrays, called on (array(float64, 2d, C), array(float64, 2d, A))\n",
      "  warnings.warn(NumbaPerformanceWarning(msg))\n"
     ]
    },
    {
     "data": {
      "text/plain": [
       "array([[-21.92233868,  -3.43422081, -31.30422603, ..., -13.58906074,\n",
       "        -18.38202555, -19.66232201],\n",
       "       [ 25.26641133,  27.53116579,  19.84195467, ...,  23.48953482,\n",
       "         36.2948353 ,  25.89329568],\n",
       "       [ 25.01626937,  28.8489448 ,  37.96312729, ...,  17.16911822,\n",
       "         16.92665586,  16.23888997],\n",
       "       ...,\n",
       "       [-21.92233868,  -3.43422081, -31.30422603, ..., -13.58906074,\n",
       "        -18.38202555, -19.66232201],\n",
       "       [ 16.69373894,  11.05557464,  12.44864598, ...,  18.72361471,\n",
       "         42.97378711,  13.84344251],\n",
       "       [-21.92233868,  -3.43422081, -31.30422603, ..., -13.58906074,\n",
       "        -18.38202555, -19.66232201]])"
      ]
     },
     "execution_count": 3,
     "metadata": {},
     "output_type": "execute_result"
    }
   ],
   "source": [
    "sketch=SRHT()\n",
    "sketch.Apply(A)"
   ]
  },
  {
   "cell_type": "code",
   "execution_count": 4,
   "id": "b080e6ac",
   "metadata": {},
   "outputs": [
    {
     "data": {
      "text/plain": [
       "array([[ -508.46797279,  -635.04669736,   -71.0445333 ,    25.84815814,\n",
       "           27.1596505 ,   -47.49232437,  -351.9734316 ,  -356.24845877,\n",
       "          -80.80228078,  -344.36599542],\n",
       "       [  205.54883272,   235.98778613,   -37.66309347,   230.47489273,\n",
       "          324.30250858,  -333.02714501,    92.28681477,    10.94128677,\n",
       "           39.09905455,  -437.50294516],\n",
       "       [  156.33314257,  -294.78159741,  -263.22783064,   118.70004541,\n",
       "         -149.26229869,   238.97939319,  -301.54912028,  -310.38237353,\n",
       "          -73.60760485,   455.74905863],\n",
       "       [ -223.23090935,   -77.95441409,  -251.09876423,   104.94927141,\n",
       "          356.68670398,  -412.54018921,  -391.61214319,   277.93123329,\n",
       "        -1185.49759261,   514.62133777],\n",
       "       [  453.01793067,   -23.40660966,    83.88906788,   910.03950663,\n",
       "          480.49819165,  -255.63982723,  -131.91963892,   196.90779479,\n",
       "         -565.76009328,   349.30081439],\n",
       "       [  656.91801023,  -375.55454929,  -538.09170685,    95.4789405 ,\n",
       "         -407.3276427 ,   605.40443149,   257.82013858,  -266.71551276,\n",
       "          575.1914368 , -1420.39108426],\n",
       "       [ -207.2653794 ,    -2.7336499 ,   117.24615613,  -310.73064693,\n",
       "         -294.14666554,   -41.23792392,  -250.64394158,  -179.3707204 ,\n",
       "          -46.10709106,   136.40258024],\n",
       "       [   -5.00291566,  -231.94689139,   184.62079072,   218.55016303,\n",
       "          163.24767897,    37.83942668,   637.65328286,    34.74031225,\n",
       "         -105.02924618,  -218.83262359],\n",
       "       [ -203.81386584,   811.94842701,  -252.92545516,  -518.61551811,\n",
       "         -473.90213379,   937.01767462,   -23.80412375,   426.30911732,\n",
       "         1391.31064378, -1188.46698785],\n",
       "       [  133.74443794,  -391.8007491 ,    32.24971652,   456.31742106,\n",
       "         1647.89650482,  -532.81958697,  -302.7090173 ,  -531.97932332,\n",
       "        -1806.34809332,  1908.11766509]])"
      ]
     },
     "execution_count": 4,
     "metadata": {},
     "output_type": "execute_result"
    }
   ],
   "source": [
    "sketch=CountSketch()\n",
    "sketch.Apply(A,apply_right=True)"
   ]
  },
  {
   "cell_type": "code",
   "execution_count": 6,
   "id": "a573757d",
   "metadata": {},
   "outputs": [
    {
     "data": {
      "text/plain": [
       "array([[ 17.65187475,  12.56916669,  -8.66146418,   5.0618439 ,\n",
       "         31.1580797 , -11.31431371,   2.25076131],\n",
       "       [  7.26183261,  -0.27581422,  -1.43573376,  -0.76059294,\n",
       "         24.71684372, -12.16738296,  -2.59726337],\n",
       "       [-10.50235082, -10.71077673,   8.49979527,   2.88585534,\n",
       "        -20.13209038,   1.66801525,   0.52130566],\n",
       "       [  8.73008028,   4.58919488, -13.39226358,  -2.25001046,\n",
       "         -1.29517704,  10.01855012,  -4.03142504],\n",
       "       [ 32.0520109 ,  21.7997689 , -16.85055894,   8.90246127,\n",
       "         43.94550668, -30.90948195, -11.22746381],\n",
       "       [-24.59491128, -23.00958274,   2.27846445,   1.04403344,\n",
       "        -43.55716475,  32.0625975 ,  12.83440249],\n",
       "       [ -2.21450132,   1.09444376,   5.59732291, -11.0625606 ,\n",
       "         -7.22107358,  17.88419111,   6.47202775]])"
      ]
     },
     "execution_count": 6,
     "metadata": {},
     "output_type": "execute_result"
    }
   ],
   "source": [
    "sketch=GaussianSketch()\n",
    "sketch.Apply(A,apply_right=True)"
   ]
  },
  {
   "cell_type": "code",
   "execution_count": null,
   "id": "c65eaba5",
   "metadata": {},
   "outputs": [],
   "source": []
  },
  {
   "cell_type": "code",
   "execution_count": 20,
   "id": "2f3ec279",
   "metadata": {},
   "outputs": [
    {
     "name": "stdout",
     "output_type": "stream",
     "text": [
      "time for subsampling 9.332964897155762\n",
      "time for count 16.405579090118408\n",
      "time for gaussian 11.151329040527344\n"
     ]
    }
   ],
   "source": [
    "time_start=time()\n",
    "for _ in range(10):\n",
    "    n=10000\n",
    "    A=np.random.rand(n*n).reshape(-1,n)\n",
    "    sketch=SubsamplingSketch()\n",
    "    _=sketch.Apply(A)\n",
    "time_end=time()\n",
    "print(\"time for subsampling {}\".format(time_end-time_start))\n",
    "\n",
    "time_start=time()\n",
    "for _ in range(10):\n",
    "    n=10000\n",
    "    A=np.random.rand(n*n).reshape(-1,n)\n",
    "    sketch=CountSketch()\n",
    "    _=sketch.Apply(A)\n",
    "time_end=time()\n",
    "print(\"time for count {}\".format(time_end-time_start))\n",
    "\n",
    "time_start=time()\n",
    "for _ in range(10):\n",
    "    n=10000\n",
    "    A=np.random.rand(n*n).reshape(-1,n)\n",
    "    sketch=GaussianSketch()\n",
    "    _=sketch.Apply(A)\n",
    "time_end=time()\n",
    "print(\"time for gaussian {}\".format(time_end-time_start))"
   ]
  },
  {
   "cell_type": "code",
   "execution_count": null,
   "id": "8c8d3d01",
   "metadata": {},
   "outputs": [],
   "source": []
  },
  {
   "cell_type": "code",
   "execution_count": 5,
   "id": "f055f02d",
   "metadata": {},
   "outputs": [],
   "source": [
    "from numpy.linalg import eig\n",
    "from numpy.linalg import svd\n",
    "import math"
   ]
  },
  {
   "cell_type": "code",
   "execution_count": 6,
   "id": "d5e3f8cc",
   "metadata": {},
   "outputs": [],
   "source": [
    "d1=2\n",
    "d2=d1\n",
    "n=1000\n",
    "m=100\n",
    "A=np.random.normal(0,1,(d1,n))\n",
    "B=np.random.normal(0,1,(n,d2))\n"
   ]
  },
  {
   "cell_type": "code",
   "execution_count": 7,
   "id": "184cf8c7",
   "metadata": {},
   "outputs": [
    {
     "name": "stdout",
     "output_type": "stream",
     "text": [
      "time for original 0.0067331790924072266\n"
     ]
    }
   ],
   "source": [
    "\n",
    "time_start=time()\n",
    "AB=A@B\n",
    "time_end=time()\n",
    "print(\"time for original {}\".format(time_end-time_start))"
   ]
  },
  {
   "cell_type": "code",
   "execution_count": 15,
   "id": "8e4a2a52",
   "metadata": {},
   "outputs": [
    {
     "name": "stdout",
     "output_type": "stream",
     "text": [
      "time for gaussian 0.01053476333618164\n"
     ]
    }
   ],
   "source": [
    "\n",
    "\n",
    "time_start=time()\n",
    "sketch=GaussianSketch()\n",
    "gaussian_AB=sketch.Apply(A,apply_right=True, apply_left=False,sketch_dimension=m)@sketch.Apply(B,sketch_dimension=m)\n",
    "time_end=time()\n",
    "print(\"time for gaussian {}\".format(time_end-time_start))"
   ]
  },
  {
   "cell_type": "code",
   "execution_count": 14,
   "id": "993c78de",
   "metadata": {
    "scrolled": true
   },
   "outputs": [
    {
     "name": "stdout",
     "output_type": "stream",
     "text": [
      "time for count 0.003701925277709961\n"
     ]
    }
   ],
   "source": [
    "\n",
    "\n",
    "time_start=time()\n",
    "sketch=CountSketch()\n",
    "count_AB=sketch.Apply(A,sketch_dimension=m,apply_right=True, apply_left=False)@sketch.Apply(B,sketch_dimension=m)\n",
    "time_end=time()\n",
    "print(\"time for count {}\".format(time_end-time_start))"
   ]
  },
  {
   "cell_type": "code",
   "execution_count": 12,
   "id": "e8a85884",
   "metadata": {},
   "outputs": [
    {
     "name": "stdout",
     "output_type": "stream",
     "text": [
      "time for subsampling 0.0016510486602783203\n"
     ]
    }
   ],
   "source": [
    "\n",
    "\n",
    "time_start=time()\n",
    "sketch=SubsamplingSketch()\n",
    "subsampling_AB=sketch.Apply(A,sketch_dimension=m,apply_right=True, apply_left=False)@sketch.Apply(B,sketch_dimension=m)\n",
    "time_end=time()\n",
    "print(\"time for subsampling {}\".format(time_end-time_start))"
   ]
  },
  {
   "cell_type": "code",
   "execution_count": 13,
   "id": "f85ebb10",
   "metadata": {},
   "outputs": [
    {
     "name": "stdout",
     "output_type": "stream",
     "text": [
      "time for SRHT 0.03179311752319336\n"
     ]
    }
   ],
   "source": [
    "\n",
    "\n",
    "time_start=time()\n",
    "sketch=SRHT()\n",
    "SRHT_AB=sketch.Apply(A,sketch_dimension=m,apply_right=True, apply_left=False)@sketch.Apply(B,sketch_dimension=m)\n",
    "time_end=time()\n",
    "print(\"time for SRHT {}\".format(time_end-time_start))"
   ]
  },
  {
   "cell_type": "code",
   "execution_count": 16,
   "id": "c362a770",
   "metadata": {},
   "outputs": [
    {
     "data": {
      "text/plain": [
       "6.6517797535015895"
      ]
     },
     "execution_count": 16,
     "metadata": {},
     "output_type": "execute_result"
    },
    {
     "data": {
      "text/plain": [
       "5.041224320780004"
      ]
     },
     "execution_count": 16,
     "metadata": {},
     "output_type": "execute_result"
    },
    {
     "data": {
      "text/plain": [
       "4.368598139491519"
      ]
     },
     "execution_count": 16,
     "metadata": {},
     "output_type": "execute_result"
    },
    {
     "data": {
      "text/plain": [
       "21.25781888538398"
      ]
     },
     "execution_count": 16,
     "metadata": {},
     "output_type": "execute_result"
    }
   ],
   "source": [
    "eigenAB=max(abs(eig(AB)[0]))\n",
    "max(abs(eig(AB-gaussian_AB)[0]))/eigenAB\n",
    "max(abs(eig(AB-subsampling_AB)[0]))/eigenAB\n",
    "max(abs(eig(AB-count_AB)[0]))/eigenAB\n",
    "max(abs(eig(AB-SRHT_AB)[0]))/eigenAB"
   ]
  },
  {
   "cell_type": "code",
   "execution_count": 17,
   "id": "a7da0431",
   "metadata": {},
   "outputs": [
    {
     "data": {
      "text/plain": [
       "array([[-40.30223943,  46.15450478],\n",
       "       [-12.86209595,   9.86579732]])"
      ]
     },
     "execution_count": 17,
     "metadata": {},
     "output_type": "execute_result"
    },
    {
     "data": {
      "text/plain": [
       "array([[-87.60505236,  95.31502646],\n",
       "       [ 69.80004546, -87.61230151]])"
      ]
     },
     "execution_count": 17,
     "metadata": {},
     "output_type": "execute_result"
    },
    {
     "data": {
      "text/plain": [
       "array([[ 52.07455517,  45.36675721],\n",
       "       [-49.27981855, -79.18003845]])"
      ]
     },
     "execution_count": 17,
     "metadata": {},
     "output_type": "execute_result"
    },
    {
     "data": {
      "text/plain": [
       "array([[ 40.94956518, 237.83782743],\n",
       "       [-14.81959459, -98.91191186]])"
      ]
     },
     "execution_count": 17,
     "metadata": {},
     "output_type": "execute_result"
    },
    {
     "data": {
      "text/plain": [
       "array([[-252.38983831,  205.98873215],\n",
       "       [ 295.20312491, -233.69122489]])"
      ]
     },
     "execution_count": 17,
     "metadata": {},
     "output_type": "execute_result"
    }
   ],
   "source": [
    "AB\n",
    "gaussian_AB\n",
    "count_AB\n",
    "subsampling_AB\n",
    "SRHT_AB"
   ]
  },
  {
   "cell_type": "code",
   "execution_count": null,
   "id": "59726208",
   "metadata": {},
   "outputs": [],
   "source": []
  },
  {
   "cell_type": "code",
   "execution_count": null,
   "id": "342c3515",
   "metadata": {},
   "outputs": [],
   "source": []
  },
  {
   "cell_type": "code",
   "execution_count": 51,
   "id": "1e48b2a5",
   "metadata": {},
   "outputs": [],
   "source": [
    "I=np.eye(1000)"
   ]
  },
  {
   "cell_type": "code",
   "execution_count": null,
   "id": "a5f15d4c",
   "metadata": {},
   "outputs": [],
   "source": []
  },
  {
   "cell_type": "code",
   "execution_count": 52,
   "id": "301dbfaa",
   "metadata": {},
   "outputs": [],
   "source": [
    "S=sketch.Matricize(n,m)"
   ]
  },
  {
   "cell_type": "code",
   "execution_count": 47,
   "id": "186a2265",
   "metadata": {},
   "outputs": [],
   "source": [
    "sketch=GaussianSketch()\n"
   ]
  },
  {
   "cell_type": "code",
   "execution_count": 54,
   "id": "8d56093b",
   "metadata": {},
   "outputs": [
    {
     "data": {
      "text/plain": [
       "array([[ 9.97668666e-01,  1.57759907e-02,  5.84438609e-03, ...,\n",
       "         6.52993424e-04, -2.20750372e-02, -2.61808767e-03],\n",
       "       [ 1.57759907e-02,  1.00246899e+00,  3.53745748e-03, ...,\n",
       "        -1.96383763e-02,  1.98577315e-03,  4.09257697e-04],\n",
       "       [ 5.84438609e-03,  3.53745748e-03,  9.92127842e-01, ...,\n",
       "         2.34455743e-02,  4.47445552e-03,  1.33958682e-02],\n",
       "       ...,\n",
       "       [ 6.52993424e-04, -1.96383763e-02,  2.34455743e-02, ...,\n",
       "         1.00175523e+00,  1.50853402e-02,  6.40598110e-03],\n",
       "       [-2.20750372e-02,  1.98577315e-03,  4.47445552e-03, ...,\n",
       "         1.50853402e-02,  9.90569413e-01,  7.59139499e-03],\n",
       "       [-2.61808767e-03,  4.09257697e-04,  1.33958682e-02, ...,\n",
       "         6.40598110e-03,  7.59139499e-03,  9.91170434e-01]])"
      ]
     },
     "execution_count": 54,
     "metadata": {},
     "output_type": "execute_result"
    }
   ],
   "source": [
    "S@S.T/m"
   ]
  },
  {
   "cell_type": "code",
   "execution_count": 18,
   "id": "62331b60",
   "metadata": {},
   "outputs": [
    {
     "name": "stderr",
     "output_type": "stream",
     "text": [
      "/Users/mayuheng/Documents/GitHub/SketchLR/SKLR/Sketches.py:71: NumbaPerformanceWarning: '@' is faster on contiguous arrays, called on (array(float64, 2d, A), array(float64, 2d, C))\n",
      "  matrix = hadamard_matrix @ matrix\n",
      "/Users/mayuheng/Documents/GitHub/SketchLR/SKLR/Sketches.py:77: NumbaPerformanceWarning: '@' is faster on contiguous arrays, called on (array(float64, 2d, C), array(float64, 2d, A))\n",
      "  matrix =  matrix @ hadamard_matrix.T\n",
      "/Users/mayuheng/opt/anaconda3/lib/python3.8/site-packages/numba/core/typing/npydecl.py:965: NumbaPerformanceWarning: '@' is faster on contiguous arrays, called on (array(float64, 2d, A), array(float64, 2d, C))\n",
      "  warnings.warn(NumbaPerformanceWarning(msg))\n",
      "/Users/mayuheng/opt/anaconda3/lib/python3.8/site-packages/numba/core/typing/npydecl.py:965: NumbaPerformanceWarning: '@' is faster on contiguous arrays, called on (array(float64, 2d, C), array(float64, 2d, A))\n",
      "  warnings.warn(NumbaPerformanceWarning(msg))\n"
     ]
    }
   ],
   "source": [
    "d1=2\n",
    "d2=d1\n",
    "n=5000\n",
    "m=100\n",
    "#A=np.random.normal(0,1,(d1,n))\n",
    "#B=np.random.normal(0,1,(n,d2))\n",
    "\n",
    "symmetry= np.random.normal(0,1,(n,n))\n",
    "for i in range(n):\n",
    "    for j in range(i):\n",
    "        symmetry[i,j]=symmetry[j,i]\n",
    "A=svd(symmetry)[0]\n",
    "B=A.T\n",
    "\n",
    "\n",
    "sketch=CountSketch()\n",
    "count_AB=sketch.Apply(A,sketch_dimension=m,apply_right=True, apply_left=False)@sketch.Apply(B,sketch_dimension=m)\n",
    "\n",
    "sketch=SRHT()\n",
    "SRHT_AB=sketch.Apply(A,sketch_dimension=m,apply_right=True, apply_left=False)@sketch.Apply(B,sketch_dimension=m)\n"
   ]
  },
  {
   "cell_type": "code",
   "execution_count": 19,
   "id": "614372b2",
   "metadata": {},
   "outputs": [
    {
     "data": {
      "text/plain": [
       "array([[ 0.91276628,  0.07134136, -0.16654315, ..., -0.07419132,\n",
       "        -0.037924  , -0.09594062],\n",
       "       [ 0.07134136,  1.14403952,  0.01065568, ..., -0.02108243,\n",
       "         0.04948759, -0.20560798],\n",
       "       [-0.16654315,  0.01065568,  1.00903628, ...,  0.04012383,\n",
       "        -0.03450953, -0.10904491],\n",
       "       ...,\n",
       "       [-0.07419132, -0.02108243,  0.04012383, ...,  0.74759433,\n",
       "        -0.00401255,  0.05251782],\n",
       "       [-0.037924  ,  0.04948759, -0.03450953, ..., -0.00401255,\n",
       "         0.93268768,  0.12406691],\n",
       "       [-0.09594062, -0.20560798, -0.10904491, ...,  0.05251782,\n",
       "         0.12406691,  1.00968484]])"
      ]
     },
     "execution_count": 19,
     "metadata": {},
     "output_type": "execute_result"
    },
    {
     "data": {
      "text/plain": [
       "array([[50.11359252, -5.72589775, -8.75894018, ..., -6.83836476,\n",
       "        -7.58206433,  3.92356803],\n",
       "       [-5.72589775, 60.65778024, -1.77519263, ...,  0.80938648,\n",
       "         5.44901438, -4.20540583],\n",
       "       [-8.75894018, -1.77519263, 48.4489451 , ..., -1.5527934 ,\n",
       "        -1.71596328,  3.53948599],\n",
       "       ...,\n",
       "       [-6.83836476,  0.80938648, -1.5527934 , ..., 54.72565778,\n",
       "        -1.41113348, -4.76552046],\n",
       "       [-7.58206433,  5.44901438, -1.71596328, ..., -1.41113348,\n",
       "        65.66623533, -2.98045939],\n",
       "       [ 3.92356803, -4.20540583,  3.53948599, ..., -4.76552046,\n",
       "        -2.98045939, 46.20515658]])"
      ]
     },
     "execution_count": 19,
     "metadata": {},
     "output_type": "execute_result"
    }
   ],
   "source": [
    "count_AB\n",
    "SRHT_AB"
   ]
  },
  {
   "cell_type": "code",
   "execution_count": 10,
   "id": "e1b364df",
   "metadata": {},
   "outputs": [
    {
     "data": {
      "text/plain": [
       "6500.000000000017"
      ]
     },
     "execution_count": 10,
     "metadata": {},
     "output_type": "execute_result"
    }
   ],
   "source": [
    "max(abs(eig(A@B-count_AB)[0]))"
   ]
  },
  {
   "cell_type": "code",
   "execution_count": 5,
   "id": "03dc009d",
   "metadata": {},
   "outputs": [
    {
     "data": {
      "text/plain": [
       "array([[ 1.00000000e+00, -2.85741483e-16,  5.83192349e-16, ...,\n",
       "         1.02348685e-16, -2.09359440e-16,  1.81441234e-16],\n",
       "       [-2.85741483e-16,  1.00000000e+00,  5.17923378e-16, ...,\n",
       "         1.76929936e-16, -4.18095463e-18, -3.22739882e-16],\n",
       "       [ 5.83192349e-16,  5.17923378e-16,  1.00000000e+00, ...,\n",
       "         1.71927360e-16, -2.72812372e-17,  2.01309238e-16],\n",
       "       ...,\n",
       "       [ 1.02348685e-16,  1.76929936e-16,  1.71927360e-16, ...,\n",
       "         1.00000000e+00,  9.85539775e-17,  2.19767780e-16],\n",
       "       [-2.09359440e-16, -4.18095463e-18, -2.72812372e-17, ...,\n",
       "         9.85539775e-17,  1.00000000e+00,  1.41271543e-16],\n",
       "       [ 1.81441234e-16, -3.22739882e-16,  2.01309238e-16, ...,\n",
       "         2.19767780e-16,  1.41271543e-16,  1.00000000e+00]])"
      ]
     },
     "execution_count": 5,
     "metadata": {},
     "output_type": "execute_result"
    }
   ],
   "source": [
    "A@B"
   ]
  },
  {
   "cell_type": "code",
   "execution_count": 4,
   "id": "953a3375",
   "metadata": {},
   "outputs": [],
   "source": [
    "from scipy.linalg import hadamard"
   ]
  },
  {
   "cell_type": "code",
   "execution_count": 7,
   "id": "e988da92",
   "metadata": {},
   "outputs": [
    {
     "data": {
      "text/plain": [
       "array([[ 1.,  1.,  1.,  1.,  1.,  1.,  1.,  1.,  1.,  1.,  1.,  1.,  1.,\n",
       "         1.,  1.,  1.],\n",
       "       [ 1., -1.,  1., -1.,  1., -1.,  1., -1.,  1., -1.,  1., -1.,  1.,\n",
       "        -1.,  1., -1.],\n",
       "       [ 1.,  1., -1., -1.,  1.,  1., -1., -1.,  1.,  1., -1., -1.,  1.,\n",
       "         1., -1., -1.],\n",
       "       [ 1., -1., -1.,  1.,  1., -1., -1.,  1.,  1., -1., -1.,  1.,  1.,\n",
       "        -1., -1.,  1.],\n",
       "       [ 1.,  1.,  1.,  1., -1., -1., -1., -1.,  1.,  1.,  1.,  1., -1.,\n",
       "        -1., -1., -1.],\n",
       "       [ 1., -1.,  1., -1., -1.,  1., -1.,  1.,  1., -1.,  1., -1., -1.,\n",
       "         1., -1.,  1.],\n",
       "       [ 1.,  1., -1., -1., -1., -1.,  1.,  1.,  1.,  1., -1., -1., -1.,\n",
       "        -1.,  1.,  1.],\n",
       "       [ 1., -1., -1.,  1., -1.,  1.,  1., -1.,  1., -1., -1.,  1., -1.,\n",
       "         1.,  1., -1.],\n",
       "       [ 1.,  1.,  1.,  1.,  1.,  1.,  1.,  1., -1., -1., -1., -1., -1.,\n",
       "        -1., -1., -1.],\n",
       "       [ 1., -1.,  1., -1.,  1., -1.,  1., -1., -1.,  1., -1.,  1., -1.,\n",
       "         1., -1.,  1.],\n",
       "       [ 1.,  1., -1., -1.,  1.,  1., -1., -1., -1., -1.,  1.,  1., -1.,\n",
       "        -1.,  1.,  1.],\n",
       "       [ 1., -1., -1.,  1.,  1., -1., -1.,  1., -1.,  1.,  1., -1., -1.,\n",
       "         1.,  1., -1.],\n",
       "       [ 1.,  1.,  1.,  1., -1., -1., -1., -1., -1., -1., -1., -1.,  1.,\n",
       "         1.,  1.,  1.],\n",
       "       [ 1., -1.,  1., -1., -1.,  1., -1.,  1., -1.,  1., -1.,  1.,  1.,\n",
       "        -1.,  1., -1.],\n",
       "       [ 1.,  1., -1., -1., -1., -1.,  1.,  1., -1., -1.,  1.,  1.,  1.,\n",
       "         1., -1., -1.],\n",
       "       [ 1., -1., -1.,  1., -1.,  1.,  1., -1., -1.,  1.,  1., -1.,  1.,\n",
       "        -1., -1.,  1.]])"
      ]
     },
     "execution_count": 7,
     "metadata": {},
     "output_type": "execute_result"
    }
   ],
   "source": [
    "hadamard(16,dtype=\"float64\")"
   ]
  },
  {
   "cell_type": "code",
   "execution_count": 2,
   "id": "3d73b6f1",
   "metadata": {},
   "outputs": [
    {
     "name": "stderr",
     "output_type": "stream",
     "text": [
      "/Users/mayuheng/Documents/GitHub/SketchLR/SKLR/Sketches.py:72: NumbaPerformanceWarning: '@' is faster on contiguous arrays, called on (array(float64, 2d, A), array(float64, 2d, C))\n",
      "  matrix = hadamard_matrix @ matrix\n",
      "/Users/mayuheng/Documents/GitHub/SketchLR/SKLR/Sketches.py:80: NumbaPerformanceWarning: '@' is faster on contiguous arrays, called on (array(float64, 2d, C), array(float64, 2d, A))\n",
      "  matrix =  matrix @ hadamard_matrix.T\n",
      "/Users/mayuheng/opt/anaconda3/lib/python3.8/site-packages/numba/core/typing/npydecl.py:965: NumbaPerformanceWarning: '@' is faster on contiguous arrays, called on (array(float64, 2d, A), array(float64, 2d, C))\n",
      "  warnings.warn(NumbaPerformanceWarning(msg))\n",
      "/Users/mayuheng/opt/anaconda3/lib/python3.8/site-packages/numba/core/typing/npydecl.py:965: NumbaPerformanceWarning: '@' is faster on contiguous arrays, called on (array(float64, 2d, C), array(float64, 2d, A))\n",
      "  warnings.warn(NumbaPerformanceWarning(msg))\n"
     ]
    },
    {
     "name": "stdout",
     "output_type": "stream",
     "text": [
      "(5000, 5000)\n",
      "(5000, 5000)\n",
      "(5000, 5000)\n",
      "(10, 5000)\n"
     ]
    },
    {
     "data": {
      "text/plain": [
       "array([[ 1.00000000e+00, -2.00000000e-01, -5.06278722e-19, ...,\n",
       "        -2.72492969e-17,  2.00000000e-01, -2.00000000e-01],\n",
       "       [-2.00000000e-01,  1.00000000e+00,  2.72492969e-17, ...,\n",
       "        -4.00000000e-01,  2.00000000e-01, -2.00000000e-01],\n",
       "       [-5.06278722e-19,  2.72492969e-17,  1.00000000e+00, ...,\n",
       "        -2.00000000e-01,  4.00000000e-01, -2.72492969e-17],\n",
       "       ...,\n",
       "       [-2.72492969e-17, -4.00000000e-01, -2.00000000e-01, ...,\n",
       "         1.00000000e+00, -2.72492969e-17, -5.06278722e-19],\n",
       "       [ 2.00000000e-01,  2.00000000e-01,  4.00000000e-01, ...,\n",
       "        -2.72492969e-17,  1.00000000e+00,  2.00000000e-01],\n",
       "       [-2.00000000e-01, -2.00000000e-01, -2.72492969e-17, ...,\n",
       "        -5.06278722e-19,  2.00000000e-01,  1.00000000e+00]])"
      ]
     },
     "execution_count": 2,
     "metadata": {},
     "output_type": "execute_result"
    }
   ],
   "source": [
    "n=5000\n",
    "m=10\n",
    "sketch=SRHT()\n",
    "S=sketch.Matricize(n,m)\n",
    "S.T @ S"
   ]
  },
  {
   "cell_type": "code",
   "execution_count": 3,
   "id": "d3cead15",
   "metadata": {},
   "outputs": [
    {
     "data": {
      "text/plain": [
       "(10, 10)"
      ]
     },
     "execution_count": 3,
     "metadata": {},
     "output_type": "execute_result"
    }
   ],
   "source": [
    "(S@S.T).shape"
   ]
  },
  {
   "cell_type": "code",
   "execution_count": 4,
   "id": "f489f41d",
   "metadata": {},
   "outputs": [
    {
     "name": "stdout",
     "output_type": "stream",
     "text": [
      "(5000, 5000)\n",
      "(5000, 5000)\n",
      "(5000, 5000)\n",
      "(10, 5000)\n"
     ]
    },
    {
     "data": {
      "text/plain": [
       "(10, 5000)"
      ]
     },
     "execution_count": 4,
     "metadata": {},
     "output_type": "execute_result"
    }
   ],
   "source": [
    "sketch=SRHT()\n",
    "S=sketch.Matricize(n,m)\n",
    "S.shape"
   ]
  },
  {
   "cell_type": "code",
   "execution_count": 9,
   "id": "83e167d1",
   "metadata": {},
   "outputs": [],
   "source": [
    "S=np.random.normal(0,1,(2000,10000))"
   ]
  },
  {
   "cell_type": "code",
   "execution_count": 11,
   "id": "85aa1537",
   "metadata": {},
   "outputs": [
    {
     "data": {
      "text/plain": [
       "array([[-0.12386899,  0.91662694, -0.1804012 , ...,  0.92524637,\n",
       "        -1.04604894, -0.21270821],\n",
       "       [-0.83377871, -0.86404545, -0.51553253, ..., -1.24247391,\n",
       "         0.29345354, -0.28530735],\n",
       "       [ 0.34384241,  0.71174422, -0.62593391, ..., -1.12173638,\n",
       "        -1.41775666, -0.97066627],\n",
       "       ...,\n",
       "       [ 1.10723439,  0.44727409,  0.51155046, ...,  0.1750107 ,\n",
       "        -0.93585384, -0.04000938],\n",
       "       [-0.02370969, -0.25013704, -0.75169434, ...,  0.91051309,\n",
       "         0.20576251,  1.33867645],\n",
       "       [ 0.29834921, -0.61552445, -0.26435792, ...,  0.61213647,\n",
       "        -0.31004956,  1.10397743]])"
      ]
     },
     "execution_count": 11,
     "metadata": {},
     "output_type": "execute_result"
    }
   ],
   "source": [
    "time_start=time()\n",
    "S.T"
   ]
  },
  {
   "cell_type": "code",
   "execution_count": null,
   "id": "a88b4fe9",
   "metadata": {},
   "outputs": [],
   "source": []
  }
 ],
 "metadata": {
  "kernelspec": {
   "display_name": "Python 3 (ipykernel)",
   "language": "python",
   "name": "python3"
  },
  "language_info": {
   "codemirror_mode": {
    "name": "ipython",
    "version": 3
   },
   "file_extension": ".py",
   "mimetype": "text/x-python",
   "name": "python",
   "nbconvert_exporter": "python",
   "pygments_lexer": "ipython3",
   "version": "3.8.2"
  }
 },
 "nbformat": 4,
 "nbformat_minor": 5
}
