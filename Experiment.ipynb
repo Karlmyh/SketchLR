{
 "cells": [
  {
   "cell_type": "code",
   "execution_count": null,
   "metadata": {},
   "outputs": [],
   "source": []
  },
  {
   "cell_type": "code",
   "execution_count": null,
   "metadata": {},
   "outputs": [],
   "source": []
  },
  {
   "cell_type": "code",
   "execution_count": 1,
   "metadata": {},
   "outputs": [],
   "source": [
    "from SKLR.SKLR import SKLR\n",
    "import torch\n",
    "import numpy as np\n",
    "import time\n",
    "import scipy\n",
    "\n",
    "\n",
    "from matplotlib import cm\n",
    "\n",
    "\n",
    "from sklearn import svm\n",
    "from scipy.spatial.distance import pdist, squareform\n",
    "from sklearn.metrics.pairwise import rbf_kernel\n",
    "from sklearn.metrics.pairwise import pairwise_kernels\n",
    "\n",
    "\n",
    "from distributions.synthetic_distributions import TestDistribution\n",
    "\n",
    "#import importlib\n",
    "#importlib.reload(some_module)\n",
    "\n",
    "import matplotlib.pyplot as plt\n",
    "\n",
    "from IPython.core.interactiveshell import InteractiveShell\n",
    "InteractiveShell.ast_node_interactivity = \"all\""
   ]
  },
  {
   "cell_type": "code",
   "execution_count": null,
   "metadata": {},
   "outputs": [],
   "source": []
  },
  {
   "cell_type": "code",
   "execution_count": null,
   "metadata": {},
   "outputs": [],
   "source": []
  },
  {
   "cell_type": "code",
   "execution_count": null,
   "metadata": {},
   "outputs": [],
   "source": []
  },
  {
   "cell_type": "code",
   "execution_count": null,
   "metadata": {},
   "outputs": [],
   "source": []
  },
  {
   "cell_type": "code",
   "execution_count": 3,
   "metadata": {},
   "outputs": [],
   "source": [
    "n=1024\n",
    "d=1000\n",
    "X0=np.random.rand(n//2,d)\n",
    "X1=np.random.rand(n//2,d)\n",
    "X=np.vstack([X0,-X1-1])\n",
    "Y0=np.ones(n//2)\n",
    "Y1=np.ones(n//2)\n",
    "Y=np.append(-Y0,Y1)\n"
   ]
  },
  {
   "cell_type": "code",
   "execution_count": null,
   "metadata": {},
   "outputs": [],
   "source": [
    "# plot "
   ]
  },
  {
   "cell_type": "code",
   "execution_count": 51,
   "metadata": {},
   "outputs": [
    {
     "data": {
      "text/plain": [
       "array([-1., -1., -1., ...,  1.,  1.,  1.])"
      ]
     },
     "execution_count": 51,
     "metadata": {},
     "output_type": "execute_result"
    }
   ],
   "source": [
    "Y"
   ]
  },
  {
   "cell_type": "code",
   "execution_count": 50,
   "metadata": {},
   "outputs": [
    {
     "data": {
      "text/plain": [
       "array([[ 0.66742132,  0.51734092,  0.53094564],\n",
       "       [ 2.02781821,  0.03179396, -0.37108413],\n",
       "       [ 1.49701598,  1.97635822,  2.6092445 ],\n",
       "       ...,\n",
       "       [-1.06793064, -0.75640766,  0.07688833],\n",
       "       [ 0.82578325, -0.24989903, -0.7213249 ],\n",
       "       [ 0.57093853, -0.47071079, -0.48302282]])"
      ]
     },
     "execution_count": 50,
     "metadata": {},
     "output_type": "execute_result"
    }
   ],
   "source": [
    "X_train"
   ]
  },
  {
   "cell_type": "code",
   "execution_count": 36,
   "metadata": {},
   "outputs": [],
   "source": [
    "n_train=1024\n",
    "n_test=5000\n",
    "d=1000\n",
    "\n",
    "distribution=TestDistribution(dim=d,index=2).returnDistribution()\n",
    "X_train,Y_train=distribution.sampling(n_train)\n",
    "\n",
    "\n",
    "X_test,Y_test=distribution.sampling(n_test)\n"
   ]
  },
  {
   "cell_type": "code",
   "execution_count": 40,
   "metadata": {},
   "outputs": [],
   "source": [
    "# training of sklr\n",
    "model_SKLR=SKLR(X_train,Y_train,sketch_dimension=100)\n",
    "model_SKLR.fit()\n",
    "model_SKLR.predict(X_test)\n",
    "prediction_SKLR=model_SKLR.prediction"
   ]
  },
  {
   "cell_type": "code",
   "execution_count": 41,
   "metadata": {},
   "outputs": [
    {
     "data": {
      "text/plain": [
       "SVC(probability=True)"
      ]
     },
     "execution_count": 41,
     "metadata": {},
     "output_type": "execute_result"
    }
   ],
   "source": [
    "# training of svm hinge\n",
    "model_SVC=svm.SVC(tol=1e-3,probability=True)\n",
    "model_SVC.fit(X_train,Y_train)\n",
    "\n",
    "prediction_SVC=model_SVC.predict(X_test)"
   ]
  },
  {
   "cell_type": "code",
   "execution_count": 42,
   "metadata": {},
   "outputs": [
    {
     "data": {
      "text/plain": [
       "0.8684"
      ]
     },
     "execution_count": 42,
     "metadata": {},
     "output_type": "execute_result"
    },
    {
     "data": {
      "text/plain": [
       "1.0"
      ]
     },
     "execution_count": 42,
     "metadata": {},
     "output_type": "execute_result"
    }
   ],
   "source": [
    "# prediction error \n",
    "(prediction_SKLR==Y_test).sum()/n_test\n",
    "(prediction_SVC==Y_test).sum()/n_test\n"
   ]
  },
  {
   "cell_type": "code",
   "execution_count": 27,
   "metadata": {},
   "outputs": [
    {
     "name": "stdout",
     "output_type": "stream",
     "text": [
      "0.5692000000000002\n",
      "0.5881999999999998\n"
     ]
    }
   ],
   "source": [
    "acc_SKLR=0\n",
    "acc_SVC=0\n",
    "for _ in range(10):\n",
    "    model_SKLR=SKLR(X_train,Y_train)\n",
    "    model_SKLR.fit()\n",
    "    model_SKLR.predict(X_test)\n",
    "    prediction_SKLR=model_SKLR.prediction\n",
    "\n",
    "    model_SVC=svm.SVC(tol=1e-3,probability=True).fit(X_train,Y_train)\n",
    "    #model_SVC.fit(X_train,Y_train)\n",
    "    prediction_SVC=model_SVC.predict(X_test)\n",
    "\n",
    "    acc_SKLR+=(prediction_SKLR==Y_test).sum()/n_test\n",
    "    acc_SVC+=(prediction_SVC==Y_test).sum()/n_test\n",
    "print(acc_SKLR/10)\n",
    "print(acc_SVC/10)\n"
   ]
  },
  {
   "cell_type": "code",
   "execution_count": 33,
   "metadata": {},
   "outputs": [
    {
     "data": {
      "text/plain": [
       "array([[-3.        , -3.        ],\n",
       "       [-2.93939394, -3.        ],\n",
       "       [-2.87878788, -3.        ],\n",
       "       ...,\n",
       "       [ 2.87878788,  3.        ],\n",
       "       [ 2.93939394,  3.        ],\n",
       "       [ 3.        ,  3.        ]])"
      ]
     },
     "execution_count": 33,
     "metadata": {},
     "output_type": "execute_result"
    },
    {
     "data": {
      "image/png": "[encoded data removed]",
      "text/plain": [
       "<Figure size 864x576 with 1 Axes>"
      ]
     },
     "metadata": {
      "needs_background": "light"
     },
     "output_type": "display_data"
    }
   ],
   "source": [
    "# plot of prediction \n",
    "gridnum=100\n",
    "X = np.linspace(-3, 3, gridnum)\n",
    "Y = np.linspace(-3, 3, gridnum)\n",
    "#生成二维数据坐标点，可以想象成围棋棋盘上的一个个落子点\n",
    "X1, Y1 = np.meshgrid(X, Y)\n",
    "#通过griddata函数插值得到所有的(X1, Y1)处对应的值，原始数据为Coordx, Coordy, Strain\n",
    "np.vstack([X1.ravel(),Y1.ravel()]).T\n",
    "model_SKLR.predict(np.vstack([X1.ravel(),Y1.ravel()]).T)\n",
    "prediction_SKLR=model_SKLR.prediction\n",
    "Z=prediction_SKLR.reshape(gridnum,gridnum)\n",
    "\n",
    "\n",
    "fig, ax = plt.subplots( figsize=(12, 8))\n",
    "\n",
    "#level设置云图颜色范围以及颜色梯度划分，只能显示0-601范围数值，每间隔20颜色变化\n",
    "levels = range(0,601,20) \n",
    "cset1 = ax.contourf(X1, Y1, Z, levels,cmap=cm.jet) \n",
    "plt.show()"
   ]
  },
  {
   "cell_type": "code",
   "execution_count": null,
   "metadata": {},
   "outputs": [],
   "source": []
  },
  {
   "cell_type": "code",
   "execution_count": 42,
   "metadata": {},
   "outputs": [
    {
     "data": {
      "text/plain": [
       "<matplotlib.contour.QuadContourSet at 0x7fb5c8e43a60>"
      ]
     },
     "execution_count": 42,
     "metadata": {},
     "output_type": "execute_result"
    },
    {
     "data": {
      "text/plain": [
       "<matplotlib.collections.PathCollection at 0x7fb5c8adf310>"
      ]
     },
     "execution_count": 42,
     "metadata": {},
     "output_type": "execute_result"
    },
    {
     "data": {
      "text/plain": [
       "<matplotlib.collections.PathCollection at 0x7fb5c8e68160>"
      ]
     },
     "execution_count": 42,
     "metadata": {},
     "output_type": "execute_result"
    },
    {
     "data": {
      "image/png": "[encoded data removed]",
      "text/plain": [
       "<Figure size 432x288 with 1 Axes>"
      ]
     },
     "metadata": {
      "needs_background": "light"
     },
     "output_type": "display_data"
    }
   ],
   "source": [
    "# decision surface for SKLR on a binary classification dataset\n",
    "from numpy import where\n",
    "from numpy import meshgrid\n",
    "from numpy import arange\n",
    "from numpy import hstack\n",
    "from sklearn.datasets import make_blobs\n",
    "from sklearn.linear_model import LogisticRegression\n",
    "from matplotlib import pyplot\n",
    "# generate dataset\n",
    "n_train=4096\n",
    "distribution=TestDistribution(dim=d,index=2).returnDistribution()\n",
    "X,y=distribution.sampling(n_train)\n",
    "\n",
    "num_noise=50\n",
    "X[(n_train-num_noise):]=np.array([-3,-3])\n",
    "y[(n_train-num_noise):]=1\n",
    "\n",
    "# define bounds of the domain\n",
    "min1, max1 = X[:, 0].min()-1, X[:, 0].max()+1\n",
    "min2, max2 = X[:, 1].min()-1, X[:, 1].max()+1\n",
    "# define the x and y scale\n",
    "x1grid = arange(min1, max1, 0.1)\n",
    "x2grid = arange(min2, max2, 0.1)\n",
    "# create all of the lines and rows of the grid\n",
    "xx, yy = meshgrid(x1grid, x2grid)\n",
    "# flatten each grid to a vector\n",
    "r1, r2 = xx.flatten(), yy.flatten()\n",
    "r1, r2 = r1.reshape((len(r1), 1)), r2.reshape((len(r2), 1))\n",
    "# horizontal stack vectors to create x1,x2 input for the model\n",
    "grid = hstack((r1,r2))\n",
    "# define the model\n",
    "model = SKLR(X,y,sketch_dimension=20)\n",
    "# fit the model\n",
    "model.fit()\n",
    "model.predict(grid)\n",
    "# make predictions for the grid\n",
    "yhat = model.prediction\n",
    "# reshape the predictions back into a grid\n",
    "zz = yhat.reshape(xx.shape)\n",
    "# plot the grid of x, y and z values as a surface\n",
    "pyplot.contourf(xx, yy, zz, cmap='Paired')\n",
    "# create scatter plot for samples from each class\n",
    "for class_value in range(2):\n",
    "\t# get row indexes for samples with this class\n",
    "\trow_ix = where(y == 2*class_value-1)\n",
    "\t# create scatter of these samples\n",
    "\tpyplot.scatter(X[row_ix, 0], X[row_ix, 1], cmap='Paired')\n",
    "# show the plot\n",
    "pyplot.show()"
   ]
  },
  {
   "cell_type": "code",
   "execution_count": 41,
   "metadata": {},
   "outputs": [
    {
     "data": {
      "text/plain": [
       "SVC(tol=0.0001)"
      ]
     },
     "execution_count": 41,
     "metadata": {},
     "output_type": "execute_result"
    },
    {
     "data": {
      "text/plain": [
       "<matplotlib.contour.QuadContourSet at 0x7fb5c8adf1c0>"
      ]
     },
     "execution_count": 41,
     "metadata": {},
     "output_type": "execute_result"
    },
    {
     "data": {
      "text/plain": [
       "<matplotlib.collections.PathCollection at 0x7fb5c8b53850>"
      ]
     },
     "execution_count": 41,
     "metadata": {},
     "output_type": "execute_result"
    },
    {
     "data": {
      "text/plain": [
       "<matplotlib.collections.PathCollection at 0x7fb5c8b53d00>"
      ]
     },
     "execution_count": 41,
     "metadata": {},
     "output_type": "execute_result"
    },
    {
     "data": {
      "image/png": "[encoded data removed]",
      "text/plain": [
       "<Figure size 432x288 with 1 Axes>"
      ]
     },
     "metadata": {
      "needs_background": "light"
     },
     "output_type": "display_data"
    }
   ],
   "source": [
    "# decision surface for SVC on a binary classification dataset\n",
    "from numpy import where\n",
    "from numpy import meshgrid\n",
    "from numpy import arange\n",
    "from numpy import hstack\n",
    "from sklearn.datasets import make_blobs\n",
    "from sklearn.linear_model import LogisticRegression\n",
    "from matplotlib import pyplot\n",
    "# generate dataset\n",
    "n_train=4096\n",
    "distribution=TestDistribution(dim=d,index=2).returnDistribution()\n",
    "X,y=distribution.sampling(n_train)\n",
    "\n",
    "num_noise=50\n",
    "X[(n_train-num_noise):]=np.array([-3,-3])\n",
    "y[(n_train-num_noise):]=1\n",
    "\n",
    "# define bounds of the domain\n",
    "min1, max1 = X[:, 0].min()-1, X[:, 0].max()+1\n",
    "min2, max2 = X[:, 1].min()-1, X[:, 1].max()+1\n",
    "# define the x and y scale\n",
    "x1grid = arange(min1, max1, 0.1)\n",
    "x2grid = arange(min2, max2, 0.1)\n",
    "# create all of the lines and rows of the grid\n",
    "xx, yy = meshgrid(x1grid, x2grid)\n",
    "# flatten each grid to a vector\n",
    "r1, r2 = xx.flatten(), yy.flatten()\n",
    "r1, r2 = r1.reshape((len(r1), 1)), r2.reshape((len(r2), 1))\n",
    "# horizontal stack vectors to create x1,x2 input for the model\n",
    "grid = hstack((r1,r2))\n",
    "# define the model\n",
    "model_SVC=svm.SVC(tol=1e-4)\n",
    "model_SVC.fit(X,y)\n",
    "# make predictions for the grid\n",
    "yhat = model_SVC.predict(grid)\n",
    "# reshape the predictions back into a grid\n",
    "zz = yhat.reshape(xx.shape)\n",
    "# plot the grid of x, y and z values as a surface\n",
    "pyplot.contourf(xx, yy, zz, cmap='Paired')\n",
    "# create scatter plot for samples from each class\n",
    "for class_value in range(2):\n",
    "\t# get row indexes for samples with this class\n",
    "\trow_ix = where(y == 2*class_value-1)\n",
    "\t# create scatter of these samples\n",
    "\tpyplot.scatter(X[row_ix, 0], X[row_ix, 1], cmap='Paired')\n",
    "# show the plot\n",
    "pyplot.show()"
   ]
  },
  {
   "cell_type": "code",
   "execution_count": null,
   "metadata": {},
   "outputs": [],
   "source": [
    "n_train=4096*2\n",
    "n_test=3000\n",
    "d=3\n",
    "\n",
    "distribution=TestDistribution(dim=d,index=2).returnDistribution()\n",
    "X_train,Y_train=distribution.sampling(n_train)\n",
    "\n",
    "\n",
    "X_test,Y_test=distribution.sampling(n_test)\n"
   ]
  },
  {
   "cell_type": "code",
   "execution_count": null,
   "metadata": {},
   "outputs": [],
   "source": []
  },
  {
   "cell_type": "code",
   "execution_count": null,
   "metadata": {},
   "outputs": [],
   "source": []
  },
  {
   "cell_type": "code",
   "execution_count": null,
   "metadata": {},
   "outputs": [],
   "source": []
  }
 ],
 "metadata": {
  "kernelspec": {
   "display_name": "Python 3 (ipykernel)",
   "language": "python",
   "name": "python3"
  },
  "language_info": {
   "codemirror_mode": {
    "name": "ipython",
    "version": 3
   },
   "file_extension": ".py",
   "mimetype": "text/x-python",
   "name": "python",
   "nbconvert_exporter": "python",
   "pygments_lexer": "ipython3",
   "version": "3.8.2"
  }
 },
 "nbformat": 4,
 "nbformat_minor": 4
}
