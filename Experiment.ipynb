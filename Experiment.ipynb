{
 "cells": [
  {
   "cell_type": "code",
   "execution_count": null,
   "metadata": {},
   "outputs": [],
   "source": []
  },
  {
   "cell_type": "code",
   "execution_count": null,
   "metadata": {},
   "outputs": [],
   "source": []
  },
  {
   "cell_type": "code",
   "execution_count": 1,
   "metadata": {},
   "outputs": [],
   "source": [
    "from SKLR.SKLR import SKLR\n",
    "import torch\n",
    "import numpy as np\n",
    "import time\n",
    "import scipy\n",
    "\n",
    "from scipy.spatial.distance import pdist, squareform\n",
    "from sklearn.metrics.pairwise import rbf_kernel\n",
    "from sklearn.metrics.pairwise import pairwise_kernels\n",
    "\n",
    "\n",
    "#import importlib\n",
    "#importlib.reload(some_module)\n",
    "\n",
    "\n"
   ]
  },
  {
   "cell_type": "code",
   "execution_count": null,
   "metadata": {},
   "outputs": [],
   "source": []
  },
  {
   "cell_type": "code",
   "execution_count": 2,
   "metadata": {},
   "outputs": [
    {
     "name": "stdout",
     "output_type": "stream",
     "text": [
      "[9.99996079e-01 9.99980476e-01 9.99996639e-01 ... 5.40109412e-04\n",
      " 9.06442064e-04 5.00926819e-04]\n",
      "[0.99988318 0.9985034  0.99999684 ... 1.         1.         1.        ]\n",
      "[0.81663559 0.81377498 0.81206078 ... 0.50237356 0.50556088 0.50181618]\n",
      "[0.55344726 0.55641288 0.54629121 ... 0.87395293 0.8734361  0.87883032]\n",
      "[0.16165912 0.17132013 0.15558582 ... 0.95299157 0.952237   0.95658833]\n",
      "[4.19882958e-04 5.68019052e-04 3.56027755e-04 ... 9.80588073e-01\n",
      " 9.79189650e-01 9.83457368e-01]\n",
      "[0.         0.         0.         ... 0.99617502 0.61547543 0.99992381]\n",
      "[0.         0.         0.         ... 0.99995779 0.96510655 0.99999974]\n",
      "[0.         0.         0.         ... 0.99999769 0.99624362 0.99999999]\n",
      "[0.         0.         0.         ... 0.99999917 0.99854469 1.        ]\n",
      "[0.         0.         0.         ... 0.99999928 0.99871276 1.        ]\n",
      "[0.         0.         0.         ... 0.99999928 0.998716   1.        ]\n",
      "[0.         0.         0.         ... 0.99999928 0.998716   1.        ]\n"
     ]
    }
   ],
   "source": [
    "n=2048\n",
    "d=10\n",
    "X0=np.random.rand(n//2,d)\n",
    "X1=np.random.rand(n//2,d)\n",
    "X=np.vstack([X0,-X1-1])\n",
    "Y0=np.ones(n//2)\n",
    "Y1=np.ones(n//2)\n",
    "Y=np.append(-Y0,Y1)\n",
    "model_SKLR=SKLR(X,Y)\n",
    "model_SKLR.fit()"
   ]
  },
  {
   "cell_type": "code",
   "execution_count": 3,
   "metadata": {},
   "outputs": [
    {
     "data": {
      "text/plain": [
       "array([0.        , 0.        , 0.        , ..., 0.99999928, 0.998716  ,\n",
       "       1.        ])"
      ]
     },
     "execution_count": 3,
     "metadata": {},
     "output_type": "execute_result"
    }
   ],
   "source": [
    "model_SKLR.probability"
   ]
  },
  {
   "cell_type": "code",
   "execution_count": 5,
   "metadata": {},
   "outputs": [
    {
     "data": {
      "text/plain": [
       "0.9853515625"
      ]
     },
     "execution_count": 5,
     "metadata": {},
     "output_type": "execute_result"
    }
   ],
   "source": [
    "model_SKLR.accuracy"
   ]
  },
  {
   "cell_type": "code",
   "execution_count": 6,
   "metadata": {},
   "outputs": [
    {
     "data": {
      "text/plain": [
       "13"
      ]
     },
     "execution_count": 6,
     "metadata": {},
     "output_type": "execute_result"
    }
   ],
   "source": [
    "model_SKLR.iteration"
   ]
  },
  {
   "cell_type": "code",
   "execution_count": 6,
   "metadata": {},
   "outputs": [
    {
     "data": {
      "text/plain": [
       "0.057700157165527344"
      ]
     },
     "execution_count": 6,
     "metadata": {},
     "output_type": "execute_result"
    }
   ],
   "source": [
    "model_SKLR.time"
   ]
  },
  {
   "cell_type": "code",
   "execution_count": null,
   "metadata": {},
   "outputs": [
    {
     "name": "stdout",
     "output_type": "stream",
     "text": [
      "0.0014040470123291016\n",
      "0.0024602413177490234\n",
      "0.0027298927307128906\n",
      "0.0010387897491455078\n",
      "0.0017752647399902344\n",
      "0.06200098991394043\n",
      "6.35811710357666\n"
     ]
    }
   ],
   "source": [
    "\n",
    "d=2\n",
    "for i in range(5,13):\n",
    "    n=2**i\n",
    "    X0=np.random.rand(n//2,d)\n",
    "    X1=np.random.rand(n//2,d)\n",
    "    X=np.vstack([X0,-X1-1])\n",
    "    Y0=np.ones(n//2)\n",
    "    Y1=np.ones(n//2)\n",
    "    Y=np.append(-Y0,Y1)\n",
    "    model_SKLR=SKLR(X,Y,kernel=\"rbf\")\n",
    "    model_SKLR.fit()\n",
    "    print(model_SKLR.time)"
   ]
  },
  {
   "cell_type": "code",
   "execution_count": null,
   "metadata": {},
   "outputs": [],
   "source": [
    "matrix_rank"
   ]
  },
  {
   "cell_type": "code",
   "execution_count": 2,
   "metadata": {},
   "outputs": [
    {
     "name": "stdout",
     "output_type": "stream",
     "text": [
      "0.00440216064453125\n",
      "0.0021152496337890625\n"
     ]
    }
   ],
   "source": [
    "n=50\n",
    "A=np.random.rand(n,n)\n",
    "\n",
    "time_start=time.time()\n",
    "scipy.linalg.pinv(A)\n",
    "time_end=time.time()\n",
    "print(time_end-time_start)\n",
    "\n",
    "\n",
    "time_start=time.time()\n",
    "scipy.linalg.inv(A)\n",
    "time_end=time.time()\n",
    "print(time_end-time_start)"
   ]
  },
  {
   "cell_type": "code",
   "execution_count": 9,
   "metadata": {},
   "outputs": [
    {
     "data": {
      "text/plain": [
       "50"
      ]
     },
     "execution_count": 9,
     "metadata": {},
     "output_type": "execute_result"
    }
   ],
   "source": [
    "np.linalg.matrix_rank(A)"
   ]
  },
  {
   "cell_type": "code",
   "execution_count": null,
   "metadata": {},
   "outputs": [],
   "source": []
  }
 ],
 "metadata": {
  "kernelspec": {
   "display_name": "Python 3 (ipykernel)",
   "language": "python",
   "name": "python3"
  },
  "language_info": {
   "codemirror_mode": {
    "name": "ipython",
    "version": 3
   },
   "file_extension": ".py",
   "mimetype": "text/x-python",
   "name": "python",
   "nbconvert_exporter": "python",
   "pygments_lexer": "ipython3",
   "version": "3.8.2"
  }
 },
 "nbformat": 4,
 "nbformat_minor": 4
}
